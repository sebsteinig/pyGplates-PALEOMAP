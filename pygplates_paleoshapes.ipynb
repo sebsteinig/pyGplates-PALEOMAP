{
 "cells": [
  {
   "cell_type": "markdown",
   "metadata": {},
   "source": [
    "# Reonstruct paleoshapes\n",
    "This notebook will calculate paleoshapes (shapes are defined by list of points) for a given list of modern shapes at a given list of ages."
   ]
  },
  {
   "cell_type": "markdown",
   "metadata": {},
   "source": [
    "## import pygplates and other packages"
   ]
  },
  {
   "cell_type": "code",
   "execution_count": 1,
   "metadata": {},
   "outputs": [],
   "source": [
    "import os\n",
    "import sys\n",
    "# add pygplates to python part\n",
    "sys.path.insert(0, os.path.abspath('./bin/pygplates_0.36.0_py37_Darwin-x86_64')) # macOS Intel \n",
    "import pygplates\n",
    "\n",
    "import pandas as pd"
   ]
  },
  {
   "cell_type": "markdown",
   "metadata": {},
   "source": [
    "## user input"
   ]
  },
  {
   "cell_type": "code",
   "execution_count": 2,
   "metadata": {},
   "outputs": [],
   "source": [
    "# input csv files (one for each shape) with label, modern latitude, modern longitude\n",
    "shapesNames = ['catskill', 'price-pocono', 'pennington']\n",
    "\n",
    "# list of ages (in Ma) for which we want to reconstruct paleolocations for the input sites\n",
    "ages           = ['385', '380', '375', '370', '366', '359', '354', '349', '344', '339', '333', '327']"
   ]
  },
  {
   "cell_type": "markdown",
   "metadata": {},
   "source": [
    "## plate model\n",
    "List of available models at http://portal.gplates.org/portal/rotation_models/.\n",
    "Here we are using the 'PALEOMAP PaleoAtlas for GPlates'by Scotese et al. (https://www.earthbyte.org/paleomap-paleoatlas-for-gplates/)\n"
   ]
  },
  {
   "cell_type": "code",
   "execution_count": 3,
   "metadata": {},
   "outputs": [],
   "source": [
    "# static polygons are the 'partitioning features'\n",
    "static_polygons = pygplates.FeatureCollection('PALEOMAP_Global_Plate_Model/PALEOMAP_PlatePolygons.gpml')\n",
    "# actual rotation model\n",
    "rotation_model=pygplates.RotationModel('PALEOMAP_Global_Plate_Model/PALEOMAP_PlateModel.rot')"
   ]
  },
  {
   "cell_type": "markdown",
   "metadata": {
    "tags": []
   },
   "source": [
    "## reconstruct points\n",
    "4-step process to reconstruct paleolocations:\n",
    "1. combine input points into feature collection\n",
    "2. create polygon from points\n",
    "3. assign plate ids to features\n",
    "4. reconstruct paleolocations for features"
   ]
  },
  {
   "cell_type": "code",
   "execution_count": 4,
   "metadata": {},
   "outputs": [
    {
     "name": "stdout",
     "output_type": "stream",
     "text": [
      "Directory  ./reconstructed-shapes/385Ma  already exists\n",
      "Directory  ./reconstructed-shapes/380Ma  already exists\n",
      "Directory  ./reconstructed-shapes/375Ma  already exists\n",
      "Directory  ./reconstructed-shapes/370Ma  already exists\n",
      "Directory  ./reconstructed-shapes/366Ma  already exists\n",
      "Directory  ./reconstructed-shapes/359Ma  already exists\n",
      "Directory  ./reconstructed-shapes/354Ma  already exists\n",
      "Directory  ./reconstructed-shapes/349Ma  already exists\n",
      "Directory  ./reconstructed-shapes/344Ma  already exists\n",
      "Directory  ./reconstructed-shapes/339Ma  already exists\n",
      "Directory  ./reconstructed-shapes/333Ma  already exists\n",
      "Directory  ./reconstructed-shapes/327Ma  already exists\n",
      "Directory  ./reconstructed-shapes/385Ma  already exists\n",
      "Directory  ./reconstructed-shapes/380Ma  already exists\n",
      "Directory  ./reconstructed-shapes/375Ma  already exists\n",
      "Directory  ./reconstructed-shapes/370Ma  already exists\n",
      "Directory  ./reconstructed-shapes/366Ma  already exists\n",
      "Directory  ./reconstructed-shapes/359Ma  already exists\n",
      "Directory  ./reconstructed-shapes/354Ma  already exists\n",
      "Directory  ./reconstructed-shapes/349Ma  already exists\n",
      "Directory  ./reconstructed-shapes/344Ma  already exists\n",
      "Directory  ./reconstructed-shapes/339Ma  already exists\n",
      "Directory  ./reconstructed-shapes/333Ma  already exists\n",
      "Directory  ./reconstructed-shapes/327Ma  already exists\n",
      "Directory  ./reconstructed-shapes/385Ma  already exists\n",
      "Directory  ./reconstructed-shapes/380Ma  already exists\n",
      "Directory  ./reconstructed-shapes/375Ma  already exists\n",
      "Directory  ./reconstructed-shapes/370Ma  already exists\n",
      "Directory  ./reconstructed-shapes/366Ma  already exists\n",
      "Directory  ./reconstructed-shapes/359Ma  already exists\n",
      "Directory  ./reconstructed-shapes/354Ma  already exists\n",
      "Directory  ./reconstructed-shapes/349Ma  already exists\n",
      "Directory  ./reconstructed-shapes/344Ma  already exists\n",
      "Directory  ./reconstructed-shapes/339Ma  already exists\n",
      "Directory  ./reconstructed-shapes/333Ma  already exists\n",
      "Directory  ./reconstructed-shapes/327Ma  already exists\n"
     ]
    }
   ],
   "source": [
    "# reconstruct polygons, i.e. area shapes\n",
    "\n",
    "for shapeCount, shapeName in enumerate(shapesNames):\n",
    "    \n",
    "    # load shapes coordinates\n",
    "    df_shape = pd.read_csv('./'+ shapeName +'-shape.csv',sep=',')\n",
    "    \n",
    "    for ageCount, age in enumerate(ages):\n",
    "\n",
    "        # Create target directory & all intermediate directories if don't exists\n",
    "        dirName = './reconstructed-shapes/'+ ages[ageCount] + 'Ma'\n",
    "        if not os.path.exists(dirName):\n",
    "            os.makedirs(dirName)\n",
    "            print(\"Directory \" , dirName ,  \" Created \")\n",
    "        else:    \n",
    "            print(\"Directory \" , dirName ,  \" already exists\") \n",
    "\n",
    "        # put the points into a feature collection, using Lat,Lon coordinates from dataframe\n",
    "        polygon_points = []\n",
    "        polygon_feature = []\n",
    "        for index,row in df_shape.iterrows():\n",
    "            point = pygplates.PointOnSphere(float(row.LAT),float(row.LON))\n",
    "            polygon_points.append(point)\n",
    "\n",
    "        #add_polyline_feature_from_points(polyline_features, polyline_points, row)\n",
    "        polygon = pygplates.PolygonOnSphere(polygon_points)\n",
    "        polygon_feature = pygplates.Feature() # 'unclassified' feature\n",
    "        polygon_feature.set_geometry(polygon)\n",
    "\n",
    "        # The partition points function can then be used as before\n",
    "        partitioned_polygon_feature = pygplates.partition_into_plates(static_polygons, rotation_model, polygon_feature) \n",
    "\n",
    "        # Reconstruct the shapes\n",
    "        reconstructed_polyline_feature_geometries = []\n",
    "        pygplates.reconstruct(partitioned_polygon_feature, rotation_model, dirName +'/' + shapeName + '-shape.shp', float(ages[ageCount]) ) \n"
   ]
  }
 ],
 "metadata": {
  "kernelspec": {
   "display_name": "Python 3 (ipykernel)",
   "language": "python",
   "name": "python3"
  },
  "language_info": {
   "codemirror_mode": {
    "name": "ipython",
    "version": 3
   },
   "file_extension": ".py",
   "mimetype": "text/x-python",
   "name": "python",
   "nbconvert_exporter": "python",
   "pygments_lexer": "ipython3",
   "version": "3.7.0"
  }
 },
 "nbformat": 4,
 "nbformat_minor": 4
}
