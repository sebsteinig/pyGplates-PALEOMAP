{
 "cells": [
  {
   "cell_type": "markdown",
   "metadata": {},
   "source": [
    "# Reonstruct paleolocations\n",
    "This notebook will calculate paleolocations for a given list of modern sites at a given list of ages."
   ]
  },
  {
   "cell_type": "markdown",
   "metadata": {},
   "source": [
    "## import pygplates and other packages"
   ]
  },
  {
   "cell_type": "code",
   "execution_count": 1,
   "metadata": {},
   "outputs": [],
   "source": [
    "import os\n",
    "import sys\n",
    "# add pygplates to python part\n",
    "sys.path.insert(0, os.path.abspath('./bin/pygplates_0.36.0_py37_Darwin-x86_64')) # macOS Intel \n",
    "import pygplates\n",
    "\n",
    "import pandas as pd"
   ]
  },
  {
   "cell_type": "markdown",
   "metadata": {},
   "source": [
    "## user input"
   ]
  },
  {
   "cell_type": "code",
   "execution_count": 2,
   "metadata": {},
   "outputs": [],
   "source": [
    "# input csv file with label, modern latitude, modern longitude\n",
    "file_input_sites = './input_sites.csv'\n",
    "\n",
    "# list of ages (in Ma) for which we want to reconstruct paleolocations for the input sites\n",
    "ages           = ['385', '380', '375', '370', '366', '359', '354', '349', '344', '339', '333', '327']"
   ]
  },
  {
   "cell_type": "markdown",
   "metadata": {},
   "source": [
    "## plate model\n",
    "List of available models at http://portal.gplates.org/portal/rotation_models/.\n",
    "Here we are using the 'PALEOMAP PaleoAtlas for GPlates'by Scotese et al. (https://www.earthbyte.org/paleomap-paleoatlas-for-gplates/)\n"
   ]
  },
  {
   "cell_type": "code",
   "execution_count": 3,
   "metadata": {},
   "outputs": [],
   "source": [
    "# static polygons are the 'partitioning features'\n",
    "static_polygons = pygplates.FeatureCollection('PALEOMAP_Global_Plate_Model/PALEOMAP_PlatePolygons.gpml')\n",
    "# actual rotation model\n",
    "rotation_model=pygplates.RotationModel('PALEOMAP_Global_Plate_Model/PALEOMAP_PlateModel.rot')"
   ]
  },
  {
   "cell_type": "markdown",
   "metadata": {
    "tags": []
   },
   "source": [
    "## reconstruct points\n",
    "3-step process to reconstruct paleolocations:\n",
    "1. combine input points into feature collection\n",
    "2. assign plate ids to features\n",
    "3. reconstruct paleolocations for features"
   ]
  },
  {
   "cell_type": "code",
   "execution_count": 4,
   "metadata": {},
   "outputs": [
    {
     "name": "stdout",
     "output_type": "stream",
     "text": [
      "Directory  ./reconstructed-shapes/385Ma  already exists\n",
      "Paleolocation for Shaffer-Rohling_Core at 385Ma (LAT/LON): -35.7/-46.7\n",
      "Paleolocation for I35_Sycamore_South at 385Ma (LAT/LON): -37.4/-47.0\n",
      "Paleolocation for Kansas_OK_Outcrop at 385Ma (LAT/LON): -37.1/-43.7\n",
      "Paleolocation for Hamsten_Unit_Core at 385Ma (LAT/LON): -34.6/-46.4\n",
      "Paleolocation for Bakken at 385Ma (LAT/LON): -18.7/-42.6\n",
      "Directory  ./reconstructed-shapes/380Ma  already exists\n",
      "Paleolocation for Shaffer-Rohling_Core at 380Ma (LAT/LON): -33.9/-46.5\n",
      "Paleolocation for I35_Sycamore_South at 380Ma (LAT/LON): -35.7/-46.8\n",
      "Paleolocation for Kansas_OK_Outcrop at 380Ma (LAT/LON): -35.4/-43.6\n",
      "Paleolocation for Hamsten_Unit_Core at 380Ma (LAT/LON): -32.9/-46.3\n",
      "Paleolocation for Bakken at 380Ma (LAT/LON): -17.0/-42.6\n",
      "Directory  ./reconstructed-shapes/375Ma  already exists\n",
      "Paleolocation for Shaffer-Rohling_Core at 375Ma (LAT/LON): -32.2/-46.4\n",
      "Paleolocation for I35_Sycamore_South at 375Ma (LAT/LON): -34.0/-46.6\n",
      "Paleolocation for Kansas_OK_Outcrop at 375Ma (LAT/LON): -33.6/-43.4\n",
      "Paleolocation for Hamsten_Unit_Core at 375Ma (LAT/LON): -31.1/-46.1\n",
      "Paleolocation for Bakken at 375Ma (LAT/LON): -15.2/-42.6\n",
      "Directory  ./reconstructed-shapes/370Ma  already exists\n",
      "Paleolocation for Shaffer-Rohling_Core at 370Ma (LAT/LON): -30.5/-46.2\n",
      "Paleolocation for I35_Sycamore_South at 370Ma (LAT/LON): -32.3/-46.5\n",
      "Paleolocation for Kansas_OK_Outcrop at 370Ma (LAT/LON): -31.9/-43.3\n",
      "Paleolocation for Hamsten_Unit_Core at 370Ma (LAT/LON): -29.4/-46.0\n",
      "Paleolocation for Bakken at 370Ma (LAT/LON): -13.5/-42.6\n",
      "Directory  ./reconstructed-shapes/366Ma  already exists\n",
      "Paleolocation for Shaffer-Rohling_Core at 366Ma (LAT/LON): -29.2/-46.1\n",
      "Paleolocation for I35_Sycamore_South at 366Ma (LAT/LON): -30.9/-46.3\n",
      "Paleolocation for Kansas_OK_Outcrop at 366Ma (LAT/LON): -30.5/-43.2\n",
      "Paleolocation for Hamsten_Unit_Core at 366Ma (LAT/LON): -28.1/-45.9\n",
      "Paleolocation for Bakken at 366Ma (LAT/LON): -12.1/-42.6\n",
      "Directory  ./reconstructed-shapes/359Ma  already exists\n",
      "Paleolocation for Shaffer-Rohling_Core at 359Ma (LAT/LON): -25.3/-45.4\n",
      "Paleolocation for I35_Sycamore_South at 359Ma (LAT/LON): -27.1/-45.7\n",
      "Paleolocation for Kansas_OK_Outcrop at 359Ma (LAT/LON): -26.7/-42.7\n",
      "Paleolocation for Hamsten_Unit_Core at 359Ma (LAT/LON): -24.2/-45.2\n",
      "Paleolocation for Bakken at 359Ma (LAT/LON): -8.3/-42.0\n",
      "Directory  ./reconstructed-shapes/354Ma  already exists\n",
      "Paleolocation for Shaffer-Rohling_Core at 354Ma (LAT/LON): -21.8/-44.7\n",
      "Paleolocation for I35_Sycamore_South at 354Ma (LAT/LON): -23.5/-44.9\n",
      "Paleolocation for Kansas_OK_Outcrop at 354Ma (LAT/LON): -23.2/-42.0\n",
      "Paleolocation for Hamsten_Unit_Core at 354Ma (LAT/LON): -20.7/-44.5\n",
      "Paleolocation for Bakken at 354Ma (LAT/LON): -4.8/-41.1\n",
      "Directory  ./reconstructed-shapes/349Ma  already exists\n",
      "Paleolocation for Shaffer-Rohling_Core at 349Ma (LAT/LON): -18.3/-44.0\n",
      "Paleolocation for I35_Sycamore_South at 349Ma (LAT/LON): -20.0/-44.2\n",
      "Paleolocation for Kansas_OK_Outcrop at 349Ma (LAT/LON): -19.8/-41.4\n",
      "Paleolocation for Hamsten_Unit_Core at 349Ma (LAT/LON): -17.2/-43.7\n",
      "Paleolocation for Bakken at 349Ma (LAT/LON): -1.4/-40.3\n",
      "Directory  ./reconstructed-shapes/344Ma  already exists\n",
      "Paleolocation for Shaffer-Rohling_Core at 344Ma (LAT/LON): -14.8/-43.2\n",
      "Paleolocation for I35_Sycamore_South at 344Ma (LAT/LON): -16.5/-43.4\n",
      "Paleolocation for Kansas_OK_Outcrop at 344Ma (LAT/LON): -16.3/-40.7\n",
      "Paleolocation for Hamsten_Unit_Core at 344Ma (LAT/LON): -13.7/-42.9\n",
      "Paleolocation for Bakken at 344Ma (LAT/LON): 2.1/-39.3\n",
      "Directory  ./reconstructed-shapes/339Ma  already exists\n",
      "Paleolocation for Shaffer-Rohling_Core at 339Ma (LAT/LON): -12.7/-41.9\n",
      "Paleolocation for I35_Sycamore_South at 339Ma (LAT/LON): -14.4/-42.1\n",
      "Paleolocation for Kansas_OK_Outcrop at 339Ma (LAT/LON): -14.1/-39.4\n",
      "Paleolocation for Hamsten_Unit_Core at 339Ma (LAT/LON): -11.6/-41.6\n",
      "Paleolocation for Bakken at 339Ma (LAT/LON): 4.3/-38.1\n",
      "Directory  ./reconstructed-shapes/333Ma  already exists\n",
      "Paleolocation for Shaffer-Rohling_Core at 333Ma (LAT/LON): -11.1/-39.8\n",
      "Paleolocation for I35_Sycamore_South at 333Ma (LAT/LON): -12.9/-40.1\n",
      "Paleolocation for Kansas_OK_Outcrop at 333Ma (LAT/LON): -12.6/-37.3\n",
      "Paleolocation for Hamsten_Unit_Core at 333Ma (LAT/LON): -10.1/-39.6\n",
      "Paleolocation for Bakken at 333Ma (LAT/LON): 5.8/-36.3\n",
      "Directory  ./reconstructed-shapes/327Ma  already exists\n",
      "Paleolocation for Shaffer-Rohling_Core at 327Ma (LAT/LON): -9.6/-37.9\n",
      "Paleolocation for I35_Sycamore_South at 327Ma (LAT/LON): -11.3/-38.0\n",
      "Paleolocation for Kansas_OK_Outcrop at 327Ma (LAT/LON): -10.9/-35.3\n",
      "Paleolocation for Hamsten_Unit_Core at 327Ma (LAT/LON): -8.5/-37.7\n",
      "Paleolocation for Bakken at 327Ma (LAT/LON): 7.5/-34.6\n"
     ]
    }
   ],
   "source": [
    "# load point coordinates\n",
    "df_sites = pd.read_csv(file_input_sites,sep=',')\n",
    "\n",
    "for ageCount, age in enumerate(ages):\n",
    "    \n",
    "    # Create target directory & all intermediate directories if don't exists\n",
    "    dirName = './reconstructed-shapes/'+ ages[ageCount] + 'Ma'\n",
    "    if not os.path.exists(dirName):\n",
    "        os.makedirs(dirName)\n",
    "        print(\"Directory \" , dirName ,  \" Created \")\n",
    "    else:    \n",
    "        print(\"Directory \" , dirName ,  \" already exists\") \n",
    "    \n",
    "    #### step 1: put the points into a feature collection, using Lat,Lon coordinates from dataframe\n",
    "    point_features = []\n",
    "    for index,row in df_sites.iterrows():\n",
    "        point = pygplates.PointOnSphere(float(row.LAT),float(row.LON))\n",
    "        point_feature = pygplates.Feature()\n",
    "        point_feature.set_geometry(point)\n",
    "        point_features.append(point_feature)\n",
    "\n",
    "    ### step 2: assign plate ids to features\n",
    "    # To reconstruct any feature geometries, each feature must have a plate id assigned. If they don't already, \n",
    "    # then the pygplates function 'PlatePartitioner' performs this function (analogous to the 'assign plate ids' \n",
    "    # menu option in GPlates GUI) \n",
    "    partitioned_point_features = pygplates.partition_into_plates(static_polygons, rotation_model, point_features) \n",
    "\n",
    "    ### step 3: reconstruct paleolocations for features\n",
    "    # Two possible ways:\n",
    "    \n",
    "    # 1. save shape files to disk for later use (e.g. load sahpefiles into python script for direct plotting)\n",
    "    pygplates.reconstruct(partitioned_point_features, rotation_model, dirName +'/NA-sites.shp', float(ages[ageCount]))\n",
    "    \n",
    "    # 2. output paleolocations directly\n",
    "    reconstructed_feature_geometries = []\n",
    "    pygplates.reconstruct(partitioned_point_features, rotation_model, reconstructed_feature_geometries, float(ages[ageCount]))    \n",
    "    for siteCount, reconstructed_feature_geometry in enumerate(reconstructed_feature_geometries):\n",
    "        paleoLocation = reconstructed_feature_geometry.get_reconstructed_geometry().to_lat_lon()\n",
    "        print('Paleolocation for ' + df_sites.name[siteCount] + ' at ' + ages[ageCount] + 'Ma (LAT/LON): ' + str(round(paleoLocation[0],1)) + '/'+str(round(paleoLocation[1],1)) )\n"
   ]
  }
 ],
 "metadata": {
  "kernelspec": {
   "display_name": "Python 3 (ipykernel)",
   "language": "python",
   "name": "python3"
  },
  "language_info": {
   "codemirror_mode": {
    "name": "ipython",
    "version": 3
   },
   "file_extension": ".py",
   "mimetype": "text/x-python",
   "name": "python",
   "nbconvert_exporter": "python",
   "pygments_lexer": "ipython3",
   "version": "3.7.0"
  }
 },
 "nbformat": 4,
 "nbformat_minor": 4
}
